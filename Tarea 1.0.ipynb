{
 "cells": [
  {
   "cell_type": "code",
   "execution_count": 1,
   "id": "096676a2",
   "metadata": {},
   "outputs": [],
   "source": [
    "import re\n",
    "import pandas as pd\n",
    "import numpy as np\n",
    "import networkx as nx\n",
    "import time"
   ]
  },
  {
   "cell_type": "markdown",
   "id": "4aa26f71",
   "metadata": {},
   "source": [
    "### Funciones para Dijkstra"
   ]
  },
  {
   "cell_type": "code",
   "execution_count": 2,
   "id": "2b3ce728",
   "metadata": {},
   "outputs": [],
   "source": [
    "Tiempo_inicio = time.time()\n",
    "def minDistance(dist, fin, v):\n",
    " \n",
    "        # distancia minima inicia en inf\n",
    "        min_d = np.inf\n",
    " \n",
    "        # Search not nearest vertex not in the\n",
    "        # shortest path tree\n",
    "        for u in range(v):\n",
    "            if dist[u] < min_d and fin[u] == False:\n",
    "                min_d = dist[u] \n",
    "                min_index = u\n",
    " \n",
    "        return min_index\n",
    "\n",
    "def dijktrs(nodo_i):\n",
    "    \n",
    "    dist = [np.inf]*v # inicializar todas las distancias en inf\n",
    "    dist[nodo_i] = 0 # cambiar la distancia del nodo 1 al 1 a 0\n",
    "    fin = [False]*v # variable que controla si un nodo ha sido finalizado\n",
    "\n",
    "    for _ in range(v):\n",
    "\n",
    "        # indice de el nodo no finalizado con la distancia minima al nodo de inicio\n",
    "        x = minDistance(dist, fin, v)  # siempre la primera vez va a ser el nodo inicial    \n",
    "\n",
    "        # agregar nodo a conjunto de nodos finalizados\n",
    "        fin[x] = True\n",
    "\n",
    "        # actualizar la distancia a los nodos adyacentes al nodo actual\n",
    "        for y in range(v):\n",
    "            if grafo[x][y] > 0 and fin[y] == False and dist[y] > dist[x] + grafo[x][y]:\n",
    "                dist[y] = dist[x] + grafo[x][y]\n",
    "                \n",
    "    return dist\n",
    "Tiempo_fin =time.time()-Tiempo_inicio "
   ]
  },
  {
   "cell_type": "code",
   "execution_count": 3,
   "id": "44433d16",
   "metadata": {},
   "outputs": [
    {
     "name": "stdout",
     "output_type": "stream",
     "text": [
      "Tiempo de cómputo del algoritmo de vecino más cercado es 0.00016 segundos\n"
     ]
    }
   ],
   "source": [
    "print(f\"Tiempo de cómputo del algoritmo de vecino más cercado es {round(Tiempo_fin,5)} segundos\")"
   ]
  },
  {
   "cell_type": "markdown",
   "id": "9c659786",
   "metadata": {},
   "source": [
    "### Leyendo archivo"
   ]
  },
  {
   "cell_type": "code",
   "execution_count": 4,
   "id": "bd052719",
   "metadata": {},
   "outputs": [],
   "source": [
    "archivo = open(\"Instancias/gdb2.dat\",'r') #Leer el archivo de instancias\n",
    "datos = [] #inicializar una lista de los datos que tiene el archivo divididos por lineas\n",
    "for linea in archivo:\n",
    "    datos.append(linea.rstrip(\"\\n\"))\n",
    "archivo.close()\n",
    "#Capacidad de los vehiculos\n",
    "Cap = [int(n) for n in re.findall(r'-?\\d+\\.?\\d*',datos[6])]\n",
    "#nodo donde se encuentra el deposito\n",
    "dep = [int(n) for n in re.findall(r'-?\\d+\\.?\\d*',datos[-1])]\n",
    "arcos = [] #obtener los datos de los arcos, (nodo inicial, nodo final, costo del arco, demanda del arco)\n",
    "\n",
    "for i in range(10,len(datos)-1):\n",
    "    s = [int(s) for s in re.findall(r'-?\\d+\\.?\\d*',datos[i])]\n",
    "    arcos.append(s)\n",
    "\n",
    "arcos = np.array(arcos)"
   ]
  },
  {
   "cell_type": "code",
   "execution_count": 5,
   "id": "9fbdc9ea",
   "metadata": {},
   "outputs": [
    {
     "data": {
      "text/plain": [
       "array([[ 1,  2, 13,  1],\n",
       "       [ 1,  4, 17,  1],\n",
       "       [ 1,  7, 19,  1],\n",
       "       [ 1,  9, 11,  1],\n",
       "       [ 1, 10, 19,  1],\n",
       "       [ 1, 12,  4,  1],\n",
       "       [ 2,  3, 18,  1],\n",
       "       [ 2,  4,  9,  1],\n",
       "       [ 2,  9,  2,  1],\n",
       "       [ 3,  4, 20,  1],\n",
       "       [ 3,  5,  5,  1],\n",
       "       [ 4, 12,  5,  1],\n",
       "       [ 5,  6,  7,  1],\n",
       "       [ 5, 11, 20,  1],\n",
       "       [ 5, 12, 11,  1],\n",
       "       [ 6,  7,  4,  1],\n",
       "       [ 6,  8, 14,  1],\n",
       "       [ 6, 12,  3,  1],\n",
       "       [ 7,  8,  8,  1],\n",
       "       [ 7, 10,  9,  1],\n",
       "       [ 7, 12, 18,  1],\n",
       "       [ 8, 10,  3,  1],\n",
       "       [ 8, 11, 10,  1],\n",
       "       [ 9, 10, 16,  1],\n",
       "       [ 9, 11, 14,  1],\n",
       "       [10, 11, 12,  1]])"
      ]
     },
     "execution_count": 5,
     "metadata": {},
     "output_type": "execute_result"
    }
   ],
   "source": [
    "arcos"
   ]
  },
  {
   "cell_type": "code",
   "execution_count": 6,
   "id": "a533da40",
   "metadata": {},
   "outputs": [],
   "source": [
    "nodos = np.unique(arcos[:,0:2].ravel())"
   ]
  },
  {
   "cell_type": "markdown",
   "id": "8d0c22e8",
   "metadata": {},
   "source": [
    "## Crear representacion de matriz del grafo"
   ]
  },
  {
   "cell_type": "code",
   "execution_count": 7,
   "id": "dd1ff352",
   "metadata": {},
   "outputs": [
    {
     "data": {
      "text/plain": [
       "array([[ 0., 13.,  0., 17.,  0.,  0., 19.,  0., 11., 19.,  0.,  4.],\n",
       "       [13.,  0., 18.,  9.,  0.,  0.,  0.,  0.,  2.,  0.,  0.,  0.],\n",
       "       [ 0., 18.,  0., 20.,  5.,  0.,  0.,  0.,  0.,  0.,  0.,  0.],\n",
       "       [17.,  9., 20.,  0.,  0.,  0.,  0.,  0.,  0.,  0.,  0.,  5.],\n",
       "       [ 0.,  0.,  5.,  0.,  0.,  7.,  0.,  0.,  0.,  0., 20., 11.],\n",
       "       [ 0.,  0.,  0.,  0.,  7.,  0.,  4., 14.,  0.,  0.,  0.,  3.],\n",
       "       [19.,  0.,  0.,  0.,  0.,  4.,  0.,  8.,  0.,  9.,  0., 18.],\n",
       "       [ 0.,  0.,  0.,  0.,  0., 14.,  8.,  0.,  0.,  3., 10.,  0.],\n",
       "       [11.,  2.,  0.,  0.,  0.,  0.,  0.,  0.,  0., 16., 14.,  0.],\n",
       "       [19.,  0.,  0.,  0.,  0.,  0.,  9.,  3., 16.,  0., 12.,  0.],\n",
       "       [ 0.,  0.,  0.,  0., 20.,  0.,  0., 10., 14., 12.,  0.,  0.],\n",
       "       [ 4.,  0.,  0.,  5., 11.,  3., 18.,  0.,  0.,  0.,  0.,  0.]])"
      ]
     },
     "execution_count": 7,
     "metadata": {},
     "output_type": "execute_result"
    }
   ],
   "source": [
    "# numero de vertices\n",
    "v = len(nodos)\n",
    "# crear representacion de matriz del grafo\n",
    "grafo = np.zeros((v, v))\n",
    "for a in arcos:\n",
    "    grafo[a[0]-1,a[1]-1] = a[2]\n",
    "grafo += grafo.T\n",
    "grafo"
   ]
  },
  {
   "cell_type": "markdown",
   "id": "6fae0c08",
   "metadata": {},
   "source": [
    "### Crear matrix de Dijkstra"
   ]
  },
  {
   "cell_type": "code",
   "execution_count": 8,
   "id": "a722d3b4",
   "metadata": {},
   "outputs": [
    {
     "data": {
      "text/plain": [
       "array([[ 0., 13., 19.,  9., 14.,  7., 11., 19., 11., 19., 25.,  4.],\n",
       "       [13.,  0., 18.,  9., 23., 17., 21., 21.,  2., 18., 16., 14.],\n",
       "       [19., 18.,  0., 20.,  5., 12., 16., 24., 20., 25., 25., 15.],\n",
       "       [ 9.,  9., 20.,  0., 15.,  8., 12., 20., 11., 21., 25.,  5.],\n",
       "       [14., 23.,  5., 15.,  0.,  7., 11., 19., 25., 20., 20., 10.],\n",
       "       [ 7., 17., 12.,  8.,  7.,  0.,  4., 12., 18., 13., 22.,  3.],\n",
       "       [11., 21., 16., 12., 11.,  4.,  0.,  8., 22.,  9., 18.,  7.],\n",
       "       [19., 21., 24., 20., 19., 12.,  8.,  0., 19.,  3., 10., 15.],\n",
       "       [11.,  2., 20., 11., 25., 18., 22., 19.,  0., 16., 14., 15.],\n",
       "       [19., 18., 25., 21., 20., 13.,  9.,  3., 16.,  0., 12., 16.],\n",
       "       [25., 16., 25., 25., 20., 22., 18., 10., 14., 12.,  0., 25.],\n",
       "       [ 4., 14., 15.,  5., 10.,  3.,  7., 15., 15., 16., 25.,  0.]])"
      ]
     },
     "execution_count": 8,
     "metadata": {},
     "output_type": "execute_result"
    }
   ],
   "source": [
    "dij_mat = []\n",
    "for i in range(v):\n",
    "    dij_mat.append(dijktrs(i))\n",
    "dij_mat = np.array(dij_mat)\n",
    "dij_mat"
   ]
  },
  {
   "cell_type": "markdown",
   "id": "4a51403c",
   "metadata": {},
   "source": [
    "### Algoritmo para visitar todos los arcos usando el vecino mas cercano y dijkstra"
   ]
  },
  {
   "cell_type": "code",
   "execution_count": 9,
   "id": "fa4cb897",
   "metadata": {
    "scrolled": true
   },
   "outputs": [],
   "source": [
    "Tiempo_inicio = time.time()\n",
    "gr = grafo.copy()\n",
    "dj = dij_mat.copy()\n",
    "current_node = dep[0] - 1\n",
    "visited = [current_node]\n",
    "cost = 0\n",
    "rec = 0\n",
    "pick = []\n",
    "\n",
    "while not np.all(gr == 0):\n",
    "    \n",
    "    \n",
    "    if rec == 5:\n",
    "        \n",
    "        next_node = 0\n",
    "        pick.append(0)\n",
    "        cost += dij_mat[current_node][0]\n",
    "        rec = -1\n",
    "        \n",
    "    else:\n",
    "        \n",
    "        non_z = np.nonzero(gr[current_node])[0] # non zero values in row given by current_node\n",
    "        if len(non_z) == 0: # use disjktra\n",
    "            \n",
    "            pick.append(0)\n",
    "            dij_non_z = np.nonzero(dj[current_node])[0]\n",
    "            if len(dij_non_z) == 0:\n",
    "                next_node = np.where(gr != 0)[0][0]\n",
    "                cost += dij_mat[current_node][next_node]\n",
    "                \n",
    "            else:\n",
    "                next_node = dij_non_z[np.argmin(dj[current_node][dij_non_z])] # not adjacent node with less cost from current node\n",
    "                cost += dj[current_node][next_node] \n",
    "\n",
    "        else:        \n",
    "            pick.append(1)\n",
    "            next_node = non_z[np.argmin(gr[current_node][non_z])] # adjacent node with less cost from current node\n",
    "            cost += gr[current_node][next_node] \n",
    "    \n",
    "        gr[current_node][next_node] = 0    \n",
    "        gr[next_node][current_node] = 0\n",
    "        dj[current_node][next_node] = 0 \n",
    "        dj[next_node][current_node] = 0\n",
    "    \n",
    "    current_node = next_node    \n",
    "    visited.append(current_node)\n",
    "    rec += 1\n",
    "\n",
    "# para llegar al deposito al final de todo\n",
    "visited.append(0)\n",
    "pick.append(0)\n",
    "cost += dij_mat[current_node][visited[-1]]\n",
    "cost\n",
    "Tiempo_fin =time.time()-Tiempo_inicio "
   ]
  },
  {
   "cell_type": "code",
   "execution_count": 10,
   "id": "9226a489",
   "metadata": {},
   "outputs": [
    {
     "name": "stdout",
     "output_type": "stream",
     "text": [
      "Tiempo de cómputo del algoritmo de vecino más cercado es 0.00117 segundos\n"
     ]
    }
   ],
   "source": [
    "print(f\"Tiempo de cómputo del algoritmo de vecino más cercado es {round(Tiempo_fin,5)} segundos\")"
   ]
  },
  {
   "cell_type": "code",
   "execution_count": 11,
   "id": "4d419cd8",
   "metadata": {},
   "outputs": [
    {
     "data": {
      "text/plain": [
       "array([ 1, 12,  6,  7,  8, 10,  1,  9,  2,  4, 12,  5,  1,  2,  3,  5,  6,\n",
       "        8,  1,  4,  3,  6,  1,  7,  1, 10,  7, 12,  2, 11,  1,  5, 11,  8,\n",
       "       12,  3,  1,  3,  7,  5,  4,  6,  1,  8,  5, 10, 11,  9,  1, 11,  7,\n",
       "        4,  9, 10,  1])"
      ]
     },
     "execution_count": 11,
     "metadata": {},
     "output_type": "execute_result"
    }
   ],
   "source": [
    "np.array(visited) + 1"
   ]
  },
  {
   "cell_type": "code",
   "execution_count": 12,
   "id": "dde8ee88",
   "metadata": {},
   "outputs": [
    {
     "data": {
      "text/plain": [
       "array([1, 1, 1, 1, 1, 0, 1, 1, 1, 1, 1, 0, 1, 1, 1, 1, 1, 0, 1, 1, 0, 0,\n",
       "       1, 0, 1, 1, 1, 0, 0, 0, 0, 1, 1, 0, 0, 0, 0, 0, 0, 0, 0, 0, 0, 0,\n",
       "       0, 1, 1, 0, 0, 0, 0, 0, 1, 0])"
      ]
     },
     "execution_count": 12,
     "metadata": {},
     "output_type": "execute_result"
    }
   ],
   "source": [
    "np.array(pick)"
   ]
  },
  {
   "cell_type": "code",
   "execution_count": 13,
   "id": "8fd3fade",
   "metadata": {},
   "outputs": [
    {
     "data": {
      "image/png": "[encoded data removed]",
      "text/plain": [
       "<Figure size 432x288 with 1 Axes>"
      ]
     },
     "metadata": {},
     "output_type": "display_data"
    }
   ],
   "source": [
    "#Creación del grafo\n",
    "df=pd.DataFrame(arcos,columns=[\"i\",\"j\",\"costo\",\"d\"])\n",
    "grafo= nx.Graph()\n",
    "for i in df.iterrows():\n",
    "    grafo.add_edge(i[1][\"i\"],i[1][\"j\"],costo=i[1][\"costo\"])\n",
    "\n",
    "\n",
    "nx.draw_circular(grafo, with_labels=True, font_weight='bold')\n",
    "\n"
   ]
  },
  {
   "cell_type": "code",
   "execution_count": null,
   "id": "cd03d4f4",
   "metadata": {},
   "outputs": [],
   "source": []
  },
  {
   "cell_type": "code",
   "execution_count": null,
   "id": "f65a6beb",
   "metadata": {},
   "outputs": [],
   "source": []
  },
  {
   "cell_type": "code",
   "execution_count": null,
   "id": "4dc4d7d4",
   "metadata": {},
   "outputs": [],
   "source": []
  },
  {
   "cell_type": "code",
   "execution_count": null,
   "id": "18169659",
   "metadata": {},
   "outputs": [],
   "source": []
  }
 ],
 "metadata": {
  "kernelspec": {
   "display_name": "Python 3 (ipykernel)",
   "language": "python",
   "name": "python3"
  },
  "language_info": {
   "codemirror_mode": {
    "name": "ipython",
    "version": 3
   },
   "file_extension": ".py",
   "mimetype": "text/x-python",
   "name": "python",
   "nbconvert_exporter": "python",
   "pygments_lexer": "ipython3",
   "version": "3.9.12"
  }
 },
 "nbformat": 4,
 "nbformat_minor": 5
}
